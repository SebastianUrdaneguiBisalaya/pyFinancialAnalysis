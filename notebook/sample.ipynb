{
 "cells": [],
 "metadata": {
  "kernelspec": {
   "display_name": "Python 3.9.6 ('venv': venv)",
   "language": "python",
   "name": "python3"
  },
  "language_info": {
   "name": "python",
   "version": "3.9.6"
  },
  "orig_nbformat": 4,
  "vscode": {
   "interpreter": {
    "hash": "83828bcecd39d5630e0f86900b085a9b7a3cdc602f496ac5343ef998cae245e1"
   }
  }
 },
 "nbformat": 4,
 "nbformat_minor": 2
}
